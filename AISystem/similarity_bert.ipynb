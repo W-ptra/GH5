{
 "cells": [
  {
   "cell_type": "code",
   "execution_count": 63,
   "metadata": {},
   "outputs": [],
   "source": [
    "# Using pretrained model to sped up the training process and get better results\n",
    "import pandas as pd\n",
    "import numpy as np\n",
    "from sentence_transformers import SentenceTransformer"
   ]
  },
  {
   "cell_type": "code",
   "execution_count": 42,
   "metadata": {},
   "outputs": [],
   "source": [
    "model = SentenceTransformer(\"all-MiniLM-L6-v2\")\n",
    "journal_archives = pd.read_csv(\"archive/data.csv\")['Answer']"
   ]
  },
  {
   "cell_type": "code",
   "execution_count": 43,
   "metadata": {},
   "outputs": [],
   "source": [
    "# Splitting 80% data for training, 20% to get the threshold\n",
    "train_data = journal_archives[:int(len(journal_archives) * 0.8)]\n",
    "test_data = journal_archives[int(len(journal_archives) * 0.8):]"
   ]
  },
  {
   "cell_type": "code",
   "execution_count": 44,
   "metadata": {},
   "outputs": [
    {
     "data": {
      "application/vnd.jupyter.widget-view+json": {
       "model_id": "3aad9f4775fd4ad1812cf66b92084d1a",
       "version_major": 2,
       "version_minor": 0
      },
      "text/plain": [
       "Batches:   0%|          | 0/37 [00:00<?, ?it/s]"
      ]
     },
     "metadata": {},
     "output_type": "display_data"
    }
   ],
   "source": [
    "journal_encode = model.encode(train_data, show_progress_bar=True)"
   ]
  },
  {
   "cell_type": "code",
   "execution_count": 65,
   "metadata": {},
   "outputs": [],
   "source": [
    "similarity_max = []\n",
    "for t in test_data:\n",
    "    test_encode = model.encode(t)\n",
    "    similarities = model.similarity(journal_encode, test_encode)\n",
    "    sim_np = similarities.numpy()\n",
    "    similarity_max.append(sim_np.max())"
   ]
  },
  {
   "cell_type": "code",
   "execution_count": 52,
   "metadata": {},
   "outputs": [
    {
     "data": {
      "text/plain": [
       "0.20711462199687958"
      ]
     },
     "execution_count": 52,
     "metadata": {},
     "output_type": "execute_result"
    }
   ],
   "source": [
    "similarity_max = pd.Series(similarity_max)\n",
    "min(similarity_max)"
   ]
  },
  {
   "cell_type": "code",
   "execution_count": 54,
   "metadata": {},
   "outputs": [
    {
     "data": {
      "text/plain": [
       "array([[<Axes: title={'center': '0'}>]], dtype=object)"
      ]
     },
     "execution_count": 54,
     "metadata": {},
     "output_type": "execute_result"
    },
    {
     "data": {
      "image/png": "[encoded data removed]",
      "text/plain": [
       "<Figure size 640x480 with 1 Axes>"
      ]
     },
     "metadata": {},
     "output_type": "display_data"
    }
   ],
   "source": [
    "sim_df = pd.DataFrame(similarity_max)\n",
    "sim_df.hist()\n",
    "# Take 40% as the threshold from histogram"
   ]
  },
  {
   "cell_type": "code",
   "execution_count": 56,
   "metadata": {},
   "outputs": [
    {
     "name": "stdout",
     "output_type": "stream",
     "text": [
      "0.7657811641693115\n",
      "The journal entry is valid\n"
     ]
    }
   ],
   "source": [
    "# Testing the threshold\n",
    "\n",
    "query_true = \"Today was a productive day. I started the morning with a healthy breakfast and then went for a jog in the park. After that, I spent a few hours working on my project, which is coming along nicely. In the afternoon, I took a break to read a book and then helped my neighbor with some gardening. It felt good to be outside and enjoy the sunshine. In the evening, I cooked dinner and spent time with my family. Overall, it was a fulfilling and satisfying day. I am grateful for the positive experiences and looking forward to continuing my progress tomorrow.\"\n",
    "query_encoded = model.encode(query_true)\n",
    "similarity_query = model.similarity(journal_encode, query_encoded)\n",
    "max_similarity = float(max(similarity_query))\n",
    "print(max_similarity)\n",
    "if(max_similarity > 0.4):\n",
    "    print(\"The journal entry is valid\")\n",
    "else:\n",
    "    print(\"The journal entry is invalid\")"
   ]
  },
  {
   "cell_type": "code",
   "execution_count": 57,
   "metadata": {},
   "outputs": [
    {
     "name": "stdout",
     "output_type": "stream",
     "text": [
      "0.1865680068731308\n",
      "The journal entry is invalid\n"
     ]
    }
   ],
   "source": [
    "query_false = \"JAKARTA, - Indonesian President-elect Prabowo Subianto will allow the nation's debt-to-GDP ratio to rise to 50%, provided his administration can boost tax revenue, the Financial Times reported citing one of his closest advisers. Prabowo's brother and adviser Hashim Djojohadikusumo told the Financial Times in a London interview that Indonesia could retain its investment-grade credit rating even if the debt-to-gross domestic product ratio rises to 50%.\"\n",
    "query_encoded = model.encode(query_false)\n",
    "similarity_query = model.similarity(journal_encode, query_encoded)\n",
    "max_similarity = float(max(similarity_query))\n",
    "print(max_similarity)\n",
    "if(max_similarity > 0.4):\n",
    "    print(\"The journal entry is valid\")\n",
    "else:\n",
    "    print(\"The journal entry is invalid\")"
   ]
  },
  {
   "cell_type": "code",
   "execution_count": 58,
   "metadata": {},
   "outputs": [
    {
     "name": "stdout",
     "output_type": "stream",
     "text": [
      "0.18917787075042725\n",
      "The journal entry is invalid\n"
     ]
    }
   ],
   "source": [
    "query_false = \"asdlkasd ,asd0qwlklas dl;kasdpoq ,amsdnasd\"\n",
    "query_encoded = model.encode(query_false)\n",
    "similarity_query = model.similarity(journal_encode, query_encoded)\n",
    "max_similarity = float(max(similarity_query))\n",
    "print(max_similarity)\n",
    "if(max_similarity > 0.4):\n",
    "    print(\"The journal entry is valid\")\n",
    "else:\n",
    "    print(\"The journal entry is invalid\")"
   ]
  },
  {
   "cell_type": "code",
   "execution_count": 69,
   "metadata": {},
   "outputs": [
    {
     "name": "stderr",
     "output_type": "stream",
     "text": [
      "[nltk_data] Downloading package stopwords to\n",
      "[nltk_data]     C:\\Users\\USER\\AppData\\Roaming\\nltk_data...\n",
      "[nltk_data]   Package stopwords is already up-to-date!\n"
     ]
    }
   ],
   "source": [
    "# Check the words to have at least 20 non-stop words\n",
    "import nltk\n",
    "from nltk.corpus import stopwords\n",
    "from nltk.tokenize import word_tokenize\n",
    "nltk.download('stopwords')\n",
    "\n",
    "def check_journal_length(journal):\n",
    "    stop_words = set(stopwords.words('english'))\n",
    "    word_tokens = word_tokenize(journal)\n",
    "    non_stop_words = [w for w in word_tokens if not w in stop_words]\n",
    "    return len(non_stop_words) > 20"
   ]
  },
  {
   "cell_type": "code",
   "execution_count": 71,
   "metadata": {},
   "outputs": [],
   "source": [
    "query_too_short = \"I am eating salad today with my family\""
   ]
  },
  {
   "cell_type": "code",
   "execution_count": 73,
   "metadata": {},
   "outputs": [
    {
     "name": "stdout",
     "output_type": "stream",
     "text": [
      "True\n",
      "False\n"
     ]
    }
   ],
   "source": [
    "print(check_journal_length(query_true))\n",
    "print(check_journal_length(query_too_short))"
   ]
  }
 ],
 "metadata": {
  "kernelspec": {
   "display_name": "nlp",
   "language": "python",
   "name": "python3"
  },
  "language_info": {
   "codemirror_mode": {
    "name": "ipython",
    "version": 3
   },
   "file_extension": ".py",
   "mimetype": "text/x-python",
   "name": "python",
   "nbconvert_exporter": "python",
   "pygments_lexer": "ipython3",
   "version": "3.9.0"
  }
 },
 "nbformat": 4,
 "nbformat_minor": 2
}
